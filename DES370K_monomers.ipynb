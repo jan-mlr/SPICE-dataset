{
 "cells": [
  {
   "cell_type": "code",
   "execution_count": 3,
   "metadata": {},
   "outputs": [],
   "source": [
    "import numpy as np\n",
    "import h5py\n",
    "import pandas as pd\n",
    "import seaborn as sns\n",
    "import seaborn.objects as so\n",
    "import matplotlib as plt"
   ]
  },
  {
   "cell_type": "code",
   "execution_count": 4,
   "metadata": {},
   "outputs": [],
   "source": [
    "hf = h5py.File(\"SPICE_db.hdf5\", \"r\")"
   ]
  },
  {
   "cell_type": "code",
   "execution_count": 54,
   "metadata": {},
   "outputs": [
    {
     "data": {
      "text/html": [
       "<div>\n",
       "<style scoped>\n",
       "    .dataframe tbody tr th:only-of-type {\n",
       "        vertical-align: middle;\n",
       "    }\n",
       "\n",
       "    .dataframe tbody tr th {\n",
       "        vertical-align: top;\n",
       "    }\n",
       "\n",
       "    .dataframe thead th {\n",
       "        text-align: right;\n",
       "    }\n",
       "</style>\n",
       "<table border=\"1\" class=\"dataframe\">\n",
       "  <thead>\n",
       "    <tr style=\"text-align: right;\">\n",
       "      <th></th>\n",
       "      <th>0</th>\n",
       "    </tr>\n",
       "  </thead>\n",
       "  <tbody>\n",
       "    <tr>\n",
       "      <th>0</th>\n",
       "      <td>b'SPICE DES370K Single Points Dataset v1.0'</td>\n",
       "    </tr>\n",
       "  </tbody>\n",
       "</table>\n",
       "</div>"
      ],
      "text/plain": [
       "                                             0\n",
       "0  b'SPICE DES370K Single Points Dataset v1.0'"
      ]
     },
     "execution_count": 54,
     "metadata": {},
     "output_type": "execute_result"
    }
   ],
   "source": [
    "df = pd.DataFrame(np.array(hf[\"c1ccco1 cnc(=[nh2+])n\"][\"subset\"]))\n",
    "# print(df.iloc[15019])\n",
    "df.head()\n",
    "# display(df)"
   ]
  },
  {
   "attachments": {},
   "cell_type": "markdown",
   "metadata": {},
   "source": [
    "DES370K Monomers are indexes 14968-15346"
   ]
  },
  {
   "cell_type": "code",
   "execution_count": 55,
   "metadata": {},
   "outputs": [],
   "source": [
    "des370k_keys = []\n",
    "for i in range(14968, 15166):\n",
    "    des370k_keys.append(np.array(hf)[i])"
   ]
  },
  {
   "cell_type": "code",
   "execution_count": 56,
   "metadata": {},
   "outputs": [
    {
     "name": "stdout",
     "output_type": "stream",
     "text": [
      "['brc(br)br', 'brc(br)br o', 'brc1ccc(cc1)br', 'brc1ccc(cc1)br [cl-]', 'brc1ccc(cc1)br [k+]', 'brc1ccc(cc1)br [na+]', 'brc1ccc(cc1)br [o-]c(=o)c', 'brc1ccc(cc1)br c1[nh]cc[nh+]1', 'brc1ccc(cc1)br c1ccccc1', 'brc1ccc(cc1)br c1ncc[nh]1', 'brc1ccc(cc1)br c=c', 'brc1ccc(cc1)br c[nh3+]', 'brc1ccc(cc1)br cc(=o)c', 'brc1ccc(cc1)br cc(=o)n', 'brc1ccc(cc1)br cc(=o)o', 'brc1ccc(cc1)br cccc', 'brc1ccc(cc1)br ccn', 'brc1ccc(cc1)br cco', 'brc1ccc(cc1)br ccs', 'brc1ccc(cc1)br cnc(=[nh2+])n', 'brc1ccc(cc1)br cnc(=o)c', 'brc1ccc(cc1)br coc', 'brc1ccc(cc1)br csc', 'brc1ccc(cc1)br cssc', 'brc1ccc(cc1)br o', 'brc1ccc(cc1)br oc1ccccc1', 'brc1ccccc1', 'brc1ccccc1 [cl-]', 'brc1ccccc1 [k+]', 'brc1ccccc1 [na+]', 'brc1ccccc1 [o-]c(=o)c', 'brc1ccccc1 brc1ccccc1', 'brc1ccccc1 c1[nh]cc[nh+]1', 'brc1ccccc1 c1ccccc1', 'brc1ccccc1 c1ncc[nh]1', 'brc1ccccc1 c=c', 'brc1ccccc1 c[nh3+]', 'brc1ccccc1 cc(=o)c', 'brc1ccccc1 cc(=o)n', 'brc1ccccc1 cc(=o)o', 'brc1ccccc1 cccc', 'brc1ccccc1 ccn', 'brc1ccccc1 cco', 'brc1ccccc1 ccs', 'brc1ccccc1 cnc(=[nh2+])n', 'brc1ccccc1 cnc(=o)c', 'brc1ccccc1 coc', 'brc1ccccc1 csc', 'brc1ccccc1 cssc', 'brc1ccccc1 o', 'brc1ccccc1 oc1ccccc1', 'brcbr', 'brcbr [cl-]', 'brcbr [k+]', 'brcbr [na+]', 'brcbr [o-]c(=o)c', 'brcbr brcbr', 'brcbr c1[nh]cc[nh+]1', 'brcbr c1ccccc1', 'brcbr c1ncc[nh]1', 'brcbr c=c', 'brcbr c[nh3+]', 'brcbr cc(=o)c', 'brcbr cc(=o)n', 'brcbr cc(=o)o', 'brcbr cccc', 'brcbr ccn', 'brcbr cco', 'brcbr ccs', 'brcbr cnc(=[nh2+])n', 'brcbr cnc(=o)c', 'brcbr coc', 'brcbr csc', 'brcbr cssc', 'brcbr o', 'brcbr oc1ccccc1', 'brccbr', 'brccbr [cl-]', 'brccbr [k+]', 'brccbr [na+]', 'brccbr [o-]c(=o)c', 'brccbr brccbr', 'brccbr c1[nh]cc[nh+]1', 'brccbr c1ccccc1', 'brccbr c1ncc[nh]1', 'brccbr c=c', 'brccbr c[nh3+]', 'brccbr cc(=o)c', 'brccbr cc(=o)n', 'brccbr cc(=o)o', 'brccbr ccn', 'brccbr cco', 'brccbr ccs', 'brccbr cnc(=[nh2+])n', 'brccbr coc', 'brccbr csc', 'brccbr cssc', 'brccbr o', 'brccbr oc1ccccc1', 'c', 'c [cl-]', 'c [k+]', 'c [na+]', 'c [o-]c(=o)c', 'c c', 'c c1[nh]cc[nh+]1', 'c c1ccccc1', 'c c1ncc[nh]1', 'c c=c', 'c c[nh3+]', 'c cc(=o)c', 'c cc(=o)n', 'c cc(=o)o', 'c cccc', 'c ccn', 'c cco', 'c ccs', 'c cnc(=[nh2+])n', 'c cnc(=o)c', 'c coc', 'c csc', 'c cssc', 'c o', 'c oc1ccccc1', 'c#c', 'c#c [cl-]', 'c#c [k+]', 'c#c [na+]', 'c#c [o-]c(=o)c', 'c#c c#c', 'c#c c1[nh]cc[nh+]1', 'c#c c1ccccc1', 'c#c c1ncc[nh]1', 'c#c c=c', 'c#c c[nh3+]', 'c#c cc(=o)c', 'c#c cc(=o)n', 'c#c cc(=o)o', 'c#c cccc', 'c#c ccn', 'c#c cco', 'c#c ccs', 'c#c cnc(=[nh2+])n', 'c#c cnc(=o)c', 'c#c coc', 'c#c csc', 'c#c cssc', 'c#c o', 'c#c oc1ccccc1', 'c#n', 'c#n [cl-]', 'c#n [k+]', 'c#n [na+]', 'c#n [o-]c(=o)c', 'c#n c#n', 'c#n c1[nh]cc[nh+]1', 'c#n c1ccccc1', 'c#n c1ncc[nh]1', 'c#n c=c', 'c#n c[nh3+]', 'c#n cc(=o)c', 'c#n cc(=o)n', 'c#n cc(=o)o', 'c#n cccc', 'c#n ccn', 'c#n cco', 'c#n ccs', 'c#n cnc(=[nh2+])n', 'c#n cnc(=o)c', 'c#n coc', 'c#n csc', 'c#n cssc', 'c#n o', 'c#n oc1ccccc1', 'c1[nh]cc[nh+]1', 'c1[nh]cc[nh+]1 c1ccc2c(c1)[nh]cc2', 'c1[nh]cc[nh+]1 c1ccc[nh]1', 'c1[nh]cc[nh+]1 c1ccccc1', 'c1[nh]cc[nh+]1 c1cccnc1', 'c1[nh]cc[nh+]1 c1ccncn1', 'c1[nh]cc[nh+]1 c1ncc[nh]1', 'c1[nh]cc[nh+]1 n1ccncc1', 'c1ccc(cc1)Br.[Na+]', 'c1ccc(cc1)Cl.[Na+]', 'c1ccc(cc1)F.[Na+]', 'c1ccc(cc1)O.[Na+]', 'c1ccc2c(c1)C=CN2.[Na+]', 'c1ccc2c(c1)[nh]cc2', 'c1ccc2c(c1)[nh]cc2 c1ccccc1', 'c1ccc2c(c1)[nh]cc2 c1ncc[nh]1', 'c1ccc[nh]1', 'c1ccc[nh]1 c1ccc[nh]1', 'c1ccc[nh]1 c1ccccc1', 'c1ccc[nh]1 c1ncc[nh]1', 'c1cccc1', 'c1cccc1 [cl-]', 'c1cccc1 [k+]', 'c1cccc1 [na+]']\n"
     ]
    }
   ],
   "source": [
    "print(des370k_keys)"
   ]
  },
  {
   "cell_type": "code",
   "execution_count": null,
   "metadata": {},
   "outputs": [],
   "source": [
    "conformer_list = []\n",
    "for i in range(len(aa_keys)):\n",
    "    temp_df = pd.DataFrame(np.array(hf[aa_keys[i]][\"dft_total_energy\"]))\n",
    "    temp_list = list(temp_df[0])\n",
    "    conformer_list.append(temp_list)"
   ]
  }
 ],
 "metadata": {
  "kernelspec": {
   "display_name": "venv",
   "language": "python",
   "name": "python3"
  },
  "language_info": {
   "codemirror_mode": {
    "name": "ipython",
    "version": 3
   },
   "file_extension": ".py",
   "mimetype": "text/x-python",
   "name": "python",
   "nbconvert_exporter": "python",
   "pygments_lexer": "ipython3",
   "version": "3.10.9"
  },
  "orig_nbformat": 4,
  "vscode": {
   "interpreter": {
    "hash": "447a22079eeaf06061216a246826e90db4b789f4565b0e5b79cc54ca5359b02e"
   }
  }
 },
 "nbformat": 4,
 "nbformat_minor": 2
}
